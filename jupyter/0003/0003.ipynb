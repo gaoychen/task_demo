{
 "cells": [
  {
   "cell_type": "markdown",
   "id": "3830c7a4",
   "metadata": {},
   "source": [
    "# This is a test"
   ]
  },
  {
   "cell_type": "code",
   "execution_count": 1,
   "id": "e45f63b2",
   "metadata": {},
   "outputs": [],
   "source": [
    "a=1\n",
    "b=2"
   ]
  },
  {
   "cell_type": "markdown",
   "id": "16b822a9",
   "metadata": {},
   "source": [
    "### 1.Sum of a and b"
   ]
  },
  {
   "cell_type": "code",
   "execution_count": 2,
   "id": "8723c1ba",
   "metadata": {},
   "outputs": [
    {
     "data": {
      "text/plain": [
       "3"
      ]
     },
     "execution_count": 2,
     "metadata": {},
     "output_type": "execute_result"
    }
   ],
   "source": []
  },
  {
   "cell_type": "code",
   "execution_count": null,
   "id": "507d8691",
   "metadata": {},
   "outputs": [],
   "source": [
    "#Please set your ID first\n",
    "id=\"3\"\n",
    "op=_\n",
    "%run -i /opt/jupyter/save/1.py"
   ]
  },
  {
   "cell_type": "markdown",
   "id": "4e61cdd7",
   "metadata": {},
   "source": [
    "### 2.Difference of a and b"
   ]
  },
  {
   "cell_type": "code",
   "execution_count": 3,
   "id": "d93f7d6a",
   "metadata": {},
   "outputs": [
    {
     "data": {
      "text/plain": [
       "-1"
      ]
     },
     "execution_count": 3,
     "metadata": {},
     "output_type": "execute_result"
    }
   ],
   "source": []
  },
  {
   "cell_type": "code",
   "execution_count": null,
   "id": "1e5c3808",
   "metadata": {},
   "outputs": [],
   "source": [
    "op=_\n",
    "%run -i /opt/jupyter/save/2.py"
   ]
  },
  {
   "cell_type": "markdown",
   "id": "1b59fc2f",
   "metadata": {},
   "source": [
    "### 3.Product of a and b"
   ]
  },
  {
   "cell_type": "code",
   "execution_count": 4,
   "id": "dac8c79d",
   "metadata": {},
   "outputs": [
    {
     "data": {
      "text/plain": [
       "2"
      ]
     },
     "execution_count": 4,
     "metadata": {},
     "output_type": "execute_result"
    }
   ],
   "source": []
  },
  {
   "cell_type": "code",
   "execution_count": null,
   "id": "4b6e738d",
   "metadata": {},
   "outputs": [],
   "source": [
    "op=_\n",
    "%run -i /opt/jupyter/save/3.py"
   ]
  },
  {
   "cell_type": "markdown",
   "id": "61dbf386",
   "metadata": {},
   "source": [
    "### 4.Quotient of a and b"
   ]
  },
  {
   "cell_type": "code",
   "execution_count": 5,
   "id": "d9268e31",
   "metadata": {},
   "outputs": [
    {
     "data": {
      "text/plain": [
       "0.5"
      ]
     },
     "execution_count": 5,
     "metadata": {},
     "output_type": "execute_result"
    }
   ],
   "source": []
  },
  {
   "cell_type": "code",
   "execution_count": null,
   "id": "11d916c5",
   "metadata": {},
   "outputs": [],
   "source": [
    "op=_\n",
    "%run -i /opt/jupyter/save/4.py"
   ]
  },
  {
   "cell_type": "markdown",
   "id": "c05d9877",
   "metadata": {},
   "source": [
    "### 5.Remainder of a and b"
   ]
  },
  {
   "cell_type": "code",
   "execution_count": 6,
   "id": "143f0c19",
   "metadata": {},
   "outputs": [
    {
     "data": {
      "text/plain": [
       "1"
      ]
     },
     "execution_count": 6,
     "metadata": {},
     "output_type": "execute_result"
    }
   ],
   "source": []
  },
  {
   "cell_type": "code",
   "execution_count": null,
   "id": "516190b5",
   "metadata": {},
   "outputs": [],
   "source": [
    "op=_\n",
    "%run -i /opt/jupyter/save/5.py"
   ]
  }
 ],
 "metadata": {
  "kernelspec": {
   "display_name": "Python 3 (ipykernel)",
   "language": "python",
   "name": "python3"
  },
  "language_info": {
   "codemirror_mode": {
    "name": "ipython",
    "version": 3
   },
   "file_extension": ".py",
   "mimetype": "text/x-python",
   "name": "python",
   "nbconvert_exporter": "python",
   "pygments_lexer": "ipython3",
   "version": "3.9.7"
  }
 },
 "nbformat": 4,
 "nbformat_minor": 5
}
